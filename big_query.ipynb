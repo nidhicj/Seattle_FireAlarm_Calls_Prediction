{
 "cells": [
  {
   "cell_type": "code",
   "execution_count": 1,
   "metadata": {},
   "outputs": [],
   "source": [
    "from google.cloud import bigquery\n",
    "from google.oauth2 import service_account\n",
    "credentials = service_account.Credentials.from_service_account_file('/mnt/d/Germany/JobHunt/Niologic/warm-bonfire-315806-57e1dcb7bd95.json')\n",
    "project_id = 'warm-bonfire-315806'\n",
    "client = bigquery.Client(credentials=credentials, project=project_id)"
   ]
  },
  {
   "cell_type": "code",
   "execution_count": 25,
   "metadata": {},
   "outputs": [],
   "source": [
    "\n",
    "query_job = client.query(\"\"\" \n",
    "SELECT \n",
    "  datetime_trunc(Datetime, HOUR) as time,\n",
    "  COUNT(*) AS NUM_CALLS\n",
    "FROM `warm-bonfire-315806.seattle_call_volume.call_freq_prediction` \n",
    "WHERE Datetime >='2017-01-01'\n",
    "GROUP BY time\n",
    "ORDER BY time\n",
    "\"\"\")\n",
    "results = query_job.result().to_dataframe()"
   ]
  },
  {
   "cell_type": "code",
   "execution_count": 19,
   "metadata": {},
   "outputs": [],
   "source": [
    "results.to_csv(\"/mnt/d/Germany/JobHunt/Niologic/results.csv\")"
   ]
  },
  {
   "cell_type": "code",
   "execution_count": 26,
   "metadata": {},
   "outputs": [
    {
     "data": {
      "text/html": [
       "<div>\n",
       "<style scoped>\n",
       "    .dataframe tbody tr th:only-of-type {\n",
       "        vertical-align: middle;\n",
       "    }\n",
       "\n",
       "    .dataframe tbody tr th {\n",
       "        vertical-align: top;\n",
       "    }\n",
       "\n",
       "    .dataframe thead th {\n",
       "        text-align: right;\n",
       "    }\n",
       "</style>\n",
       "<table border=\"1\" class=\"dataframe\">\n",
       "  <thead>\n",
       "    <tr style=\"text-align: right;\">\n",
       "      <th></th>\n",
       "      <th>time</th>\n",
       "      <th>NUM_CALLS</th>\n",
       "    </tr>\n",
       "  </thead>\n",
       "  <tbody>\n",
       "    <tr>\n",
       "      <th>0</th>\n",
       "      <td>2017-01-01 00:00:00+00:00</td>\n",
       "      <td>25</td>\n",
       "    </tr>\n",
       "    <tr>\n",
       "      <th>1</th>\n",
       "      <td>2017-01-01 01:00:00+00:00</td>\n",
       "      <td>24</td>\n",
       "    </tr>\n",
       "    <tr>\n",
       "      <th>2</th>\n",
       "      <td>2017-01-01 02:00:00+00:00</td>\n",
       "      <td>18</td>\n",
       "    </tr>\n",
       "    <tr>\n",
       "      <th>3</th>\n",
       "      <td>2017-01-01 03:00:00+00:00</td>\n",
       "      <td>18</td>\n",
       "    </tr>\n",
       "    <tr>\n",
       "      <th>4</th>\n",
       "      <td>2017-01-01 04:00:00+00:00</td>\n",
       "      <td>10</td>\n",
       "    </tr>\n",
       "    <tr>\n",
       "      <th>...</th>\n",
       "      <td>...</td>\n",
       "      <td>...</td>\n",
       "    </tr>\n",
       "    <tr>\n",
       "      <th>49625</th>\n",
       "      <td>2022-09-02 10:00:00+00:00</td>\n",
       "      <td>15</td>\n",
       "    </tr>\n",
       "    <tr>\n",
       "      <th>49626</th>\n",
       "      <td>2022-09-02 11:00:00+00:00</td>\n",
       "      <td>16</td>\n",
       "    </tr>\n",
       "    <tr>\n",
       "      <th>49627</th>\n",
       "      <td>2022-09-02 12:00:00+00:00</td>\n",
       "      <td>15</td>\n",
       "    </tr>\n",
       "    <tr>\n",
       "      <th>49628</th>\n",
       "      <td>2022-09-02 13:00:00+00:00</td>\n",
       "      <td>28</td>\n",
       "    </tr>\n",
       "    <tr>\n",
       "      <th>49629</th>\n",
       "      <td>2022-09-02 14:00:00+00:00</td>\n",
       "      <td>2</td>\n",
       "    </tr>\n",
       "  </tbody>\n",
       "</table>\n",
       "<p>49630 rows × 2 columns</p>\n",
       "</div>"
      ],
      "text/plain": [
       "                           time  NUM_CALLS\n",
       "0     2017-01-01 00:00:00+00:00         25\n",
       "1     2017-01-01 01:00:00+00:00         24\n",
       "2     2017-01-01 02:00:00+00:00         18\n",
       "3     2017-01-01 03:00:00+00:00         18\n",
       "4     2017-01-01 04:00:00+00:00         10\n",
       "...                         ...        ...\n",
       "49625 2022-09-02 10:00:00+00:00         15\n",
       "49626 2022-09-02 11:00:00+00:00         16\n",
       "49627 2022-09-02 12:00:00+00:00         15\n",
       "49628 2022-09-02 13:00:00+00:00         28\n",
       "49629 2022-09-02 14:00:00+00:00          2\n",
       "\n",
       "[49630 rows x 2 columns]"
      ]
     },
     "execution_count": 26,
     "metadata": {},
     "output_type": "execute_result"
    }
   ],
   "source": [
    "results"
   ]
  },
  {
   "cell_type": "code",
   "execution_count": 14,
   "metadata": {},
   "outputs": [
    {
     "ename": "AttributeError",
     "evalue": "'RowIterator' object has no attribute 'strip'",
     "output_type": "error",
     "traceback": [
      "\u001b[0;31m---------------------------------------------------------------------------\u001b[0m",
      "\u001b[0;31mAttributeError\u001b[0m                            Traceback (most recent call last)",
      "\u001b[1;32m/mnt/d/Germany/JobHunt/Niologic/big_query.ipynb Cell 3\u001b[0m in \u001b[0;36m<cell line: 3>\u001b[0;34m()\u001b[0m\n\u001b[1;32m      <a href='vscode-notebook-cell://wsl%2Bubuntu-18.04/mnt/d/Germany/JobHunt/Niologic/big_query.ipynb#W4sdnNjb2RlLXJlbW90ZQ%3D%3D?line=0'>1</a>\u001b[0m \u001b[39mimport\u001b[39;00m \u001b[39mpandas\u001b[39;00m \u001b[39mas\u001b[39;00m \u001b[39mpd\u001b[39;00m\n\u001b[0;32m----> <a href='vscode-notebook-cell://wsl%2Bubuntu-18.04/mnt/d/Germany/JobHunt/Niologic/big_query.ipynb#W4sdnNjb2RlLXJlbW90ZQ%3D%3D?line=2'>3</a>\u001b[0m k \u001b[39m=\u001b[39m pd\u001b[39m.\u001b[39;49mread_gbq(results, project_id,credentials)\n\u001b[1;32m      <a href='vscode-notebook-cell://wsl%2Bubuntu-18.04/mnt/d/Germany/JobHunt/Niologic/big_query.ipynb#W4sdnNjb2RlLXJlbW90ZQ%3D%3D?line=3'>4</a>\u001b[0m k\n",
      "File \u001b[0;32m~/miniconda3/lib/python3.9/site-packages/pandas/io/gbq.py:183\u001b[0m, in \u001b[0;36mread_gbq\u001b[0;34m(query, project_id, index_col, col_order, reauth, auth_local_webserver, dialect, location, configuration, credentials, use_bqstorage_api, max_results, progress_bar_type)\u001b[0m\n\u001b[1;32m    180\u001b[0m kwargs[\u001b[39m\"\u001b[39m\u001b[39mprogress_bar_type\u001b[39m\u001b[39m\"\u001b[39m] \u001b[39m=\u001b[39m progress_bar_type\n\u001b[1;32m    181\u001b[0m \u001b[39m# END: new kwargs\u001b[39;00m\n\u001b[0;32m--> 183\u001b[0m \u001b[39mreturn\u001b[39;00m pandas_gbq\u001b[39m.\u001b[39;49mread_gbq(\n\u001b[1;32m    184\u001b[0m     query,\n\u001b[1;32m    185\u001b[0m     project_id\u001b[39m=\u001b[39;49mproject_id,\n\u001b[1;32m    186\u001b[0m     index_col\u001b[39m=\u001b[39;49mindex_col,\n\u001b[1;32m    187\u001b[0m     col_order\u001b[39m=\u001b[39;49mcol_order,\n\u001b[1;32m    188\u001b[0m     reauth\u001b[39m=\u001b[39;49mreauth,\n\u001b[1;32m    189\u001b[0m     auth_local_webserver\u001b[39m=\u001b[39;49mauth_local_webserver,\n\u001b[1;32m    190\u001b[0m     dialect\u001b[39m=\u001b[39;49mdialect,\n\u001b[1;32m    191\u001b[0m     location\u001b[39m=\u001b[39;49mlocation,\n\u001b[1;32m    192\u001b[0m     configuration\u001b[39m=\u001b[39;49mconfiguration,\n\u001b[1;32m    193\u001b[0m     credentials\u001b[39m=\u001b[39;49mcredentials,\n\u001b[1;32m    194\u001b[0m     \u001b[39m*\u001b[39;49m\u001b[39m*\u001b[39;49mkwargs,\n\u001b[1;32m    195\u001b[0m )\n",
      "File \u001b[0;32m~/miniconda3/lib/python3.9/site-packages/pandas_gbq/gbq.py:920\u001b[0m, in \u001b[0;36mread_gbq\u001b[0;34m(query_or_table, project_id, index_col, col_order, reauth, auth_local_webserver, dialect, location, configuration, credentials, use_bqstorage_api, max_results, verbose, private_key, progress_bar_type, dtypes)\u001b[0m\n\u001b[1;32m    907\u001b[0m     query_or_table \u001b[39m=\u001b[39m configuration[\u001b[39m\"\u001b[39m\u001b[39mquery\u001b[39m\u001b[39m\"\u001b[39m]\u001b[39m.\u001b[39mpop(\u001b[39m\"\u001b[39m\u001b[39mquery\u001b[39m\u001b[39m\"\u001b[39m)\n\u001b[1;32m    909\u001b[0m connector \u001b[39m=\u001b[39m GbqConnector(\n\u001b[1;32m    910\u001b[0m     project_id,\n\u001b[1;32m    911\u001b[0m     reauth\u001b[39m=\u001b[39mreauth,\n\u001b[0;32m   (...)\u001b[0m\n\u001b[1;32m    917\u001b[0m     use_bqstorage_api\u001b[39m=\u001b[39muse_bqstorage_api,\n\u001b[1;32m    918\u001b[0m )\n\u001b[0;32m--> 920\u001b[0m \u001b[39mif\u001b[39;00m _is_query(query_or_table):\n\u001b[1;32m    921\u001b[0m     final_df \u001b[39m=\u001b[39m connector\u001b[39m.\u001b[39mrun_query(\n\u001b[1;32m    922\u001b[0m         query_or_table,\n\u001b[1;32m    923\u001b[0m         configuration\u001b[39m=\u001b[39mconfiguration,\n\u001b[0;32m   (...)\u001b[0m\n\u001b[1;32m    926\u001b[0m         dtypes\u001b[39m=\u001b[39mdtypes,\n\u001b[1;32m    927\u001b[0m     )\n\u001b[1;32m    928\u001b[0m \u001b[39melse\u001b[39;00m:\n",
      "File \u001b[0;32m~/miniconda3/lib/python3.9/site-packages/pandas_gbq/gbq.py:72\u001b[0m, in \u001b[0;36m_is_query\u001b[0;34m(query_or_table)\u001b[0m\n\u001b[1;32m     71\u001b[0m \u001b[39mdef\u001b[39;00m \u001b[39m_is_query\u001b[39m(query_or_table: \u001b[39mstr\u001b[39m) \u001b[39m-\u001b[39m\u001b[39m>\u001b[39m \u001b[39mbool\u001b[39m:\n\u001b[0;32m---> 72\u001b[0m     \u001b[39mreturn\u001b[39;00m re\u001b[39m.\u001b[39msearch(\u001b[39mr\u001b[39m\u001b[39m\"\u001b[39m\u001b[39m\\\u001b[39m\u001b[39ms\u001b[39m\u001b[39m\"\u001b[39m, query_or_table\u001b[39m.\u001b[39;49mstrip(), re\u001b[39m.\u001b[39mMULTILINE) \u001b[39mis\u001b[39;00m \u001b[39mnot\u001b[39;00m \u001b[39mNone\u001b[39;00m\n",
      "\u001b[0;31mAttributeError\u001b[0m: 'RowIterator' object has no attribute 'strip'"
     ]
    }
   ],
   "source": [
    "import pandas as pd\n",
    "\n",
    "k = pd.read_gbq(results, project_id,credentials)\n",
    "k"
   ]
  },
  {
   "cell_type": "code",
   "execution_count": 25,
   "metadata": {},
   "outputs": [
    {
     "ename": "SyntaxError",
     "evalue": "invalid syntax (3026870627.py, line 3)",
     "output_type": "error",
     "traceback": [
      "\u001b[0;36m  Input \u001b[0;32mIn [25]\u001b[0;36m\u001b[0m\n\u001b[0;31m    SELECT CAST(EXTRACT(date from start_date) AS TIMESTAMP) AS date, COUNT(*) AS numrentals\u001b[0m\n\u001b[0m           ^\u001b[0m\n\u001b[0;31mSyntaxError\u001b[0m\u001b[0;31m:\u001b[0m invalid syntax\n"
     ]
    }
   ],
   "source": [
    "\n",
    "%load_ext google.cloud.bigquery\n",
    "%%bigquery df\n",
    "SELECT CAST(EXTRACT(date from start_date) AS TIMESTAMP) AS date, COUNT(*) AS numrentals\n",
    "FROM 'warm-bonfire-315806.seattle_call_volume.call_freq_prediction'\n",
    "WHERE start_station_name LIKE '%Hyde%'  -- all stations in Hyde Park\n",
    "GROUP BY date\n",
    "HAVING date BETWEEN '2015-05-01' AND '2015-06-15'\n",
    "ORDER BY date\n",
    "\n",
    "\n"
   ]
  }
 ],
 "metadata": {
  "kernelspec": {
   "display_name": "Python 3.9.7 ('base')",
   "language": "python",
   "name": "python3"
  },
  "language_info": {
   "codemirror_mode": {
    "name": "ipython",
    "version": 3
   },
   "file_extension": ".py",
   "mimetype": "text/x-python",
   "name": "python",
   "nbconvert_exporter": "python",
   "pygments_lexer": "ipython3",
   "version": "3.9.7"
  },
  "orig_nbformat": 4,
  "vscode": {
   "interpreter": {
    "hash": "dd7ece6455534c60a31640ea49a991ba6e9f464db439a723eca6cfb91116ed3c"
   }
  }
 },
 "nbformat": 4,
 "nbformat_minor": 2
}
